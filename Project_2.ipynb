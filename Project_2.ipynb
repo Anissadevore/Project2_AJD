{
 "cells": [
  {
   "cell_type": "code",
   "execution_count": 1,
   "metadata": {},
   "outputs": [
    {
     "name": "stdout",
     "output_type": "stream",
     "text": [
      "\u001b[1;35mPeriodic Table of Elements\n",
      "\n",
      "\u001b[1;30m1  2  3  4  5  6  7  8  9  10 11 12 13 14 15 16 17 18\n",
      "\u001b[1;30m2 \u001b[1;32mH                                                  He\n",
      "\u001b[1;30m3 \u001b[1;33mLi Be                               B  C  N  O  F  Ne\n",
      "\u001b[1;30m4 \u001b[1;34mNa Mg                               Al Si P  S  Cl Ar\n",
      "\u001b[1;30m5 \u001b[1;35mK  Ca Sc Ti V  Cr Mn Fe Co Ni Cu Zn Ga Ge As Se Br Kr\n",
      "\u001b[1;30m6 \u001b[1;36mRb Sr Y  Zr Nb Mo Tc Ru Rh Pd Ag Cd In Sn Sb Te I  Xe\n",
      "\u001b[1;30m7 \u001b[1;31mCs Ba La Hf Ta W  Re Os Ir Pt Au Hg Tl Pb Bi Po At Rn\n",
      "\u001b[1;30m8 \u001b[1;32mFr Ra Ac Rf Db Sg Bh Hs Mt Ds Rg Cn Nh Fl Mc Lv Ts Og\n",
      "\u001b[1;30m9     \u001b[1;33mCe Pr Nd Pm Sm Eu Gd Tb Dy Ho Er Tm Yb Lu\n",
      "\u001b[1;30m10    \u001b[1;34mTh Pa U  Np Pu Am Cm Bk Cf Es Fm Md No Lr\n"
     ]
    }
   ],
   "source": [
    "print('\\033[1;35mPeriodic Table of Elements')\n",
    "print() # To add an extra space between title and table\n",
    "\n",
    "print('\\033[1;30m1  2  3  4  5  6  7  8  9  10 11 12 13 14 15 16 17 18')\n",
    "print('\\033[1;30m2 \\033[1;32mH                                                  He')\n",
    "print('\\033[1;30m3 \\033[1;33mLi Be                               B  C  N  O  F  Ne')\n",
    "print('\\033[1;30m4 \\033[1;34mNa Mg                               Al Si P  S  Cl Ar')\n",
    "print('\\033[1;30m5 \\033[1;35mK  Ca Sc Ti V  Cr Mn Fe Co Ni Cu Zn Ga Ge As Se Br Kr')\n",
    "print('\\033[1;30m6 \\033[1;36mRb Sr Y  Zr Nb Mo Tc Ru Rh Pd Ag Cd In Sn Sb Te I  Xe')\n",
    "print('\\033[1;30m7 \\033[1;31mCs Ba La Hf Ta W  Re Os Ir Pt Au Hg Tl Pb Bi Po At Rn')\n",
    "print('\\033[1;30m8 \\033[1;32mFr Ra Ac Rf Db Sg Bh Hs Mt Ds Rg Cn Nh Fl Mc Lv Ts Og')\n",
    "print('\\033[1;30m9     \\033[1;33mCe Pr Nd Pm Sm Eu Gd Tb Dy Ho Er Tm Yb Lu')\n",
    "print('\\033[1;30m10    \\033[1;34mTh Pa U  Np Pu Am Cm Bk Cf Es Fm Md No Lr')\n"
   ]
  }
 ],
 "metadata": {
  "kernelspec": {
   "display_name": "Python 3",
   "language": "python",
   "name": "python3"
  },
  "language_info": {
   "codemirror_mode": {
    "name": "ipython",
    "version": 3
   },
   "file_extension": ".py",
   "mimetype": "text/x-python",
   "name": "python",
   "nbconvert_exporter": "python",
   "pygments_lexer": "ipython3",
   "version": "3.6.6+"
  }
 },
 "nbformat": 4,
 "nbformat_minor": 2
}
